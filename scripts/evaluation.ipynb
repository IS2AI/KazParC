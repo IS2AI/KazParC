{
 "cells": [
  {
   "cell_type": "markdown",
   "id": "c252695d",
   "metadata": {},
   "source": [
    "## Load and preprocessing the data"
   ]
  },
  {
   "cell_type": "code",
   "execution_count": null,
   "id": "c27282e1",
   "metadata": {},
   "outputs": [],
   "source": [
    "# Load the metrics\n",
    "\n",
    "import evaluate\n",
    "\n",
    "bleu = evaluate.load(\"bleu\")\n",
    "chrf = evaluate.load(\"chrf\")"
   ]
  },
  {
   "cell_type": "code",
   "execution_count": 3,
   "id": "7613aec2",
   "metadata": {},
   "outputs": [],
   "source": [
    "# Import test dataset\n",
    "\n",
    "import pandas as pd\n",
    "\n",
    "df = pd.read_json('tilmash_syntkazparc_tr_ru.json')"
   ]
  },
  {
   "cell_type": "code",
   "execution_count": 5,
   "id": "a9a03fa0",
   "metadata": {},
   "outputs": [],
   "source": [
    "# The evaluating function must input a list. This function converts a string to alist \n",
    "\n",
    "def make_list(text):\n",
    "    output = []\n",
    "    output.append(text)\n",
    "    return output"
   ]
  },
  {
   "cell_type": "code",
   "execution_count": 6,
   "id": "3594387b",
   "metadata": {},
   "outputs": [],
   "source": [
    "# Function to extract the main metrics\n",
    "\n",
    "def get_score(results, arg_name):\n",
    "    score = results[arg_name]\n",
    "    return score"
   ]
  },
  {
   "cell_type": "code",
   "execution_count": 8,
   "id": "344ea8df",
   "metadata": {},
   "outputs": [],
   "source": [
    "# Converting strings to lists\n",
    "\n",
    "df['kk'] = df.apply(lambda x: make_list(x['kk']), axis=1)\n",
    "df['ru'] = df.apply(lambda x: make_list(x['ru']), axis=1)\n",
    "df['en'] = df.apply(lambda x: make_list(x['en']), axis=1)\n",
    "df['tr'] = df.apply(lambda x: make_list(x['tr']), axis=1)\n",
    "df['trans_kk_en'] = df.apply(lambda x: make_list(x['trans_kk_en']), axis=1)\n",
    "df['trans_en_ka'] = df.apply(lambda x: make_list(x['trans_en_ka']), axis=1)\n",
    "df['trans_ru_ka'] = df.apply(lambda x: make_list(x['trans_ru_ka']), axis=1)\n",
    "df['trans_ru_en'] = df.apply(lambda x: make_list(x['trans_ru_en']), axis=1)\n",
    "df['trans_en_ru'] = df.apply(lambda x: make_list(x['trans_en_ru']), axis=1)\n",
    "df['trans_kk_ru'] = df.apply(lambda x: make_list(x['trans_kk_ru']), axis=1)\n",
    "df['trans_kk_tu'] = df.apply(lambda x: make_list(x['trans_kk_tu']), axis=1)\n",
    "df['trans_ru_tu'] = df.apply(lambda x: make_list(x['trans_ru_tu']), axis=1)\n",
    "df['trans_en_tu'] = df.apply(lambda x: make_list(x['trans_en_tu']), axis=1)\n",
    "df['trans_tr_en'] = df.apply(lambda x: make_list(x['trans_tr_en']), axis=1)\n",
    "df['trans_tr_ka'] = df.apply(lambda x: make_list(x['trans_tr_ka']), axis=1)\n",
    "df['trans_tr_ru'] = df.apply(lambda x: make_list(x['trans_tr_ru']), axis=1)"
   ]
  },
  {
   "cell_type": "markdown",
   "id": "0a70f3b6",
   "metadata": {},
   "source": [
    "# KK-RU"
   ]
  },
  {
   "cell_type": "code",
   "execution_count": 10,
   "id": "c734112f",
   "metadata": {},
   "outputs": [],
   "source": [
    "# Computing the metrics\n",
    "\n",
    "df['kk-ru-bleu'] = df.apply(lambda x: bleu.compute(predictions=x['trans_kk_ru'], references=x['ru']), axis=1)\n",
    "df['kk-ru-chrf'] = df.apply(lambda x: chrf.compute(predictions=x['trans_kk_ru'], references=x['ru']), axis=1)"
   ]
  },
  {
   "cell_type": "code",
   "execution_count": 11,
   "id": "fd9f0bdd",
   "metadata": {},
   "outputs": [],
   "source": [
    "# Extracting the score\n",
    "\n",
    "df['kk-ru-bleu'] = df.apply(lambda x: get_score(x['kk-ru-bleu'], 'bleu'), axis=1)\n",
    "df['kk-ru-chrf'] = df.apply(lambda x: get_score(x['kk-ru-chrf'], 'score'), axis=1)"
   ]
  },
  {
   "cell_type": "markdown",
   "id": "8d7970a1",
   "metadata": {},
   "source": [
    "# KK-EN"
   ]
  },
  {
   "cell_type": "code",
   "execution_count": 12,
   "id": "6bf0de9c",
   "metadata": {},
   "outputs": [],
   "source": [
    "# Computing the metrics\n",
    "\n",
    "df['kk-en-bleu'] = df.apply(lambda x: bleu.compute(predictions=x['trans_kk_en'], references=x['en']), axis=1)\n",
    "df['kk-en-chrf'] = df.apply(lambda x: chrf.compute(predictions=x['trans_kk_en'], references=x['en']), axis=1)"
   ]
  },
  {
   "cell_type": "code",
   "execution_count": 13,
   "id": "4d686ed4",
   "metadata": {},
   "outputs": [],
   "source": [
    "# Extracting the score\n",
    "\n",
    "df['kk-en-bleu'] = df.apply(lambda x: get_score(x['kk-en-bleu'], 'bleu'), axis=1)\n",
    "df['kk-en-chrf'] = df.apply(lambda x: get_score(x['kk-en-chrf'], 'score'), axis=1)"
   ]
  },
  {
   "cell_type": "markdown",
   "id": "0218dfc8",
   "metadata": {},
   "source": [
    "# KK-TR"
   ]
  },
  {
   "cell_type": "code",
   "execution_count": 14,
   "id": "81b6a16c",
   "metadata": {},
   "outputs": [],
   "source": [
    "# Computing the metrics\n",
    "\n",
    "df['kk-tr-bleu'] = df.apply(lambda x: bleu.compute(predictions=x['trans_kk_tu'], references=x['tr']), axis=1)\n",
    "df['kk-tr-chrf'] = df.apply(lambda x: chrf.compute(predictions=x['trans_kk_tu'], references=x['tr']), axis=1)"
   ]
  },
  {
   "cell_type": "code",
   "execution_count": 15,
   "id": "f0d631f6",
   "metadata": {},
   "outputs": [],
   "source": [
    "# Extracting the score\n",
    "\n",
    "df['kk-tr-bleu'] = df.apply(lambda x: get_score(x['kk-tr-bleu'], 'bleu'), axis=1)\n",
    "df['kk-tr-chrf'] = df.apply(lambda x: get_score(x['kk-tr-chrf'], 'score'), axis=1)"
   ]
  },
  {
   "cell_type": "markdown",
   "id": "d389db3a",
   "metadata": {},
   "source": [
    "# EN-KK"
   ]
  },
  {
   "cell_type": "code",
   "execution_count": 16,
   "id": "e96b7736",
   "metadata": {},
   "outputs": [],
   "source": [
    "# Computing the metrics\n",
    "\n",
    "df['en-kk-bleu'] = df.apply(lambda x: bleu.compute(predictions=x['trans_en_ka'], references=x['kk']), axis=1)\n",
    "df['en-kk-chrf'] = df.apply(lambda x: chrf.compute(predictions=x['trans_en_ka'], references=x['kk']), axis=1)"
   ]
  },
  {
   "cell_type": "code",
   "execution_count": 17,
   "id": "5f118b7b",
   "metadata": {},
   "outputs": [],
   "source": [
    "# Extracting the score\n",
    "\n",
    "df['en-kk-bleu'] = df.apply(lambda x: get_score(x['en-kk-bleu'], 'bleu'), axis=1)\n",
    "df['en-kk-chrf'] = df.apply(lambda x: get_score(x['en-kk-chrf'], 'score'), axis=1)"
   ]
  },
  {
   "cell_type": "markdown",
   "id": "01253f36",
   "metadata": {},
   "source": [
    "# RU-KK"
   ]
  },
  {
   "cell_type": "code",
   "execution_count": 18,
   "id": "b18490a7",
   "metadata": {},
   "outputs": [],
   "source": [
    "# Computing the metrics\n",
    "\n",
    "df['ru-kk-bleu'] = df.apply(lambda x: bleu.compute(predictions=x['trans_ru_ka'], references=x['kk']), axis=1)\n",
    "df['ru-kk-chrf'] = df.apply(lambda x: chrf.compute(predictions=x['trans_ru_ka'], references=x['kk']), axis=1)"
   ]
  },
  {
   "cell_type": "code",
   "execution_count": 19,
   "id": "28b6c9bf",
   "metadata": {},
   "outputs": [],
   "source": [
    "# Extracting the score\n",
    "\n",
    "df['ru-kk-bleu'] = df.apply(lambda x: get_score(x['ru-kk-bleu'], 'bleu'), axis=1)\n",
    "df['ru-kk-chrf'] = df.apply(lambda x: get_score(x['ru-kk-chrf'], 'score'), axis=1)"
   ]
  },
  {
   "cell_type": "markdown",
   "id": "0ed88fc8",
   "metadata": {},
   "source": [
    "# TR-KK"
   ]
  },
  {
   "cell_type": "code",
   "execution_count": 20,
   "id": "287948ef",
   "metadata": {},
   "outputs": [],
   "source": [
    "# Computing the metrics\n",
    "\n",
    "df['tr-kk-bleu'] = df.apply(lambda x: bleu.compute(predictions=x['trans_tr_ka'], references=x['kk']), axis=1)\n",
    "df['tr-kk-chrf'] = df.apply(lambda x: chrf.compute(predictions=x['trans_tr_ka'], references=x['kk']), axis=1)"
   ]
  },
  {
   "cell_type": "code",
   "execution_count": 21,
   "id": "c0e73cea",
   "metadata": {},
   "outputs": [],
   "source": [
    "# Extracting the score\n",
    "\n",
    "df['tr-kk-bleu'] = df.apply(lambda x: get_score(x['tr-kk-bleu'], 'bleu'), axis=1)\n",
    "df['tr-kk-chrf'] = df.apply(lambda x: get_score(x['tr-kk-chrf'], 'score'), axis=1)"
   ]
  },
  {
   "cell_type": "markdown",
   "id": "de76a561",
   "metadata": {},
   "source": [
    "# RU-EN"
   ]
  },
  {
   "cell_type": "code",
   "execution_count": 22,
   "id": "8d779c5f",
   "metadata": {},
   "outputs": [],
   "source": [
    "# Computing the metrics\n",
    "\n",
    "df['ru-en-bleu'] = df.apply(lambda x: bleu.compute(predictions=x['trans_ru_en'], references=x['en']), axis=1)\n",
    "df['ru-en-chrf'] = df.apply(lambda x: chrf.compute(predictions=x['trans_ru_en'], references=x['en']), axis=1)"
   ]
  },
  {
   "cell_type": "code",
   "execution_count": 23,
   "id": "ee3ee4a8",
   "metadata": {},
   "outputs": [],
   "source": [
    "# Extracting the score\n",
    "\n",
    "df['ru-en-bleu'] = df.apply(lambda x: get_score(x['ru-en-bleu'], 'bleu'), axis=1)\n",
    "df['ru-en-chrf'] = df.apply(lambda x: get_score(x['ru-en-chrf'], 'score'), axis=1)"
   ]
  },
  {
   "cell_type": "markdown",
   "id": "36bdfb31",
   "metadata": {},
   "source": [
    "# EN-RU"
   ]
  },
  {
   "cell_type": "code",
   "execution_count": 24,
   "id": "fa55ae61",
   "metadata": {},
   "outputs": [],
   "source": [
    "# Computing the metrics\n",
    "\n",
    "df['en-ru-bleu'] = df.apply(lambda x: bleu.compute(predictions=x['trans_en_ru'], references=x['ru']), axis=1)\n",
    "df['en-ru-chrf'] = df.apply(lambda x: chrf.compute(predictions=x['trans_en_ru'], references=x['ru']), axis=1)"
   ]
  },
  {
   "cell_type": "code",
   "execution_count": 25,
   "id": "74cc218a",
   "metadata": {},
   "outputs": [],
   "source": [
    "# Extracting the score\n",
    "\n",
    "df['en-ru-bleu'] = df.apply(lambda x: get_score(x['en-ru-bleu'], 'bleu'), axis=1)\n",
    "df['en-ru-chrf'] = df.apply(lambda x: get_score(x['en-ru-chrf'], 'score'), axis=1)"
   ]
  },
  {
   "cell_type": "markdown",
   "id": "a8a0b861",
   "metadata": {},
   "source": [
    "# RU-TR"
   ]
  },
  {
   "cell_type": "code",
   "execution_count": 26,
   "id": "28da2e1e",
   "metadata": {},
   "outputs": [],
   "source": [
    "# Computing the metrics\n",
    "\n",
    "df['ru-tr-bleu'] = df.apply(lambda x: bleu.compute(predictions=x['trans_ru_tu'], references=x['tr']), axis=1)\n",
    "df['ru-tr-chrf'] = df.apply(lambda x: chrf.compute(predictions=x['trans_ru_tu'], references=x['tr']), axis=1)"
   ]
  },
  {
   "cell_type": "code",
   "execution_count": 27,
   "id": "59c36251",
   "metadata": {},
   "outputs": [],
   "source": [
    "# Extracting the score\n",
    "\n",
    "df['ru-tr-bleu'] = df.apply(lambda x: get_score(x['ru-tr-bleu'], 'bleu'), axis=1)\n",
    "df['ru-tr-chrf'] = df.apply(lambda x: get_score(x['ru-tr-chrf'], 'score'), axis=1)"
   ]
  },
  {
   "cell_type": "markdown",
   "id": "5973eb33",
   "metadata": {},
   "source": [
    "# TR-RU"
   ]
  },
  {
   "cell_type": "code",
   "execution_count": 28,
   "id": "482da003",
   "metadata": {},
   "outputs": [],
   "source": [
    "# Computing the metrics\n",
    "\n",
    "df['tr-ru-bleu'] = df.apply(lambda x: bleu.compute(predictions=x['trans_tr_ru'], references=x['ru']), axis=1)\n",
    "df['tr-ru-chrf'] = df.apply(lambda x: chrf.compute(predictions=x['trans_tr_ru'], references=x['ru']), axis=1)"
   ]
  },
  {
   "cell_type": "code",
   "execution_count": 29,
   "id": "b48d05c0",
   "metadata": {},
   "outputs": [],
   "source": [
    "# Extracting the score\n",
    "\n",
    "df['tr-ru-bleu'] = df.apply(lambda x: get_score(x['tr-ru-bleu'], 'bleu'), axis=1)\n",
    "df['tr-ru-chrf'] = df.apply(lambda x: get_score(x['tr-ru-chrf'], 'score'), axis=1)"
   ]
  },
  {
   "cell_type": "markdown",
   "id": "869f7b9a",
   "metadata": {},
   "source": [
    "# EN-TR"
   ]
  },
  {
   "cell_type": "code",
   "execution_count": 30,
   "id": "a8012701",
   "metadata": {},
   "outputs": [],
   "source": [
    "# Computing the metrics\n",
    "\n",
    "df['en-tr-bleu'] = df.apply(lambda x: bleu.compute(predictions=x['trans_en_tu'], references=x['tr']), axis=1)\n",
    "df['en-tr-chrf'] = df.apply(lambda x: chrf.compute(predictions=x['trans_en_tu'], references=x['tr']), axis=1)"
   ]
  },
  {
   "cell_type": "code",
   "execution_count": 31,
   "id": "c8aba7d6",
   "metadata": {},
   "outputs": [],
   "source": [
    "# Extracting the score\n",
    "\n",
    "df['en-tr-bleu'] = df.apply(lambda x: get_score(x['en-tr-bleu'], 'bleu'), axis=1)\n",
    "df['en-tr-chrf'] = df.apply(lambda x: get_score(x['en-tr-chrf'], 'score'), axis=1)"
   ]
  },
  {
   "cell_type": "markdown",
   "id": "ac687dd5",
   "metadata": {},
   "source": [
    "# TR-EN"
   ]
  },
  {
   "cell_type": "code",
   "execution_count": 32,
   "id": "d21a80d6",
   "metadata": {},
   "outputs": [],
   "source": [
    "# Computing the metrics\n",
    "\n",
    "df['tr-en-bleu'] = df.apply(lambda x: bleu.compute(predictions=x['trans_tr_en'], references=x['en']), axis=1)\n",
    "df['tr-en-chrf'] = df.apply(lambda x: chrf.compute(predictions=x['trans_tr_en'], references=x['en']), axis=1)"
   ]
  },
  {
   "cell_type": "code",
   "execution_count": 33,
   "id": "11f9a017",
   "metadata": {},
   "outputs": [],
   "source": [
    "# Extracting the score\n",
    "\n",
    "df['tr-en-bleu'] = df.apply(lambda x: get_score(x['tr-en-bleu'], 'bleu'), axis=1)\n",
    "df['tr-en-chrf'] = df.apply(lambda x: get_score(x['tr-en-chrf'], 'score'), axis=1)"
   ]
  },
  {
   "cell_type": "markdown",
   "id": "6caf37a7",
   "metadata": {},
   "source": [
    " # Results"
   ]
  },
  {
   "cell_type": "code",
   "execution_count": null,
   "id": "4650bab6",
   "metadata": {},
   "outputs": [],
   "source": [
    "# Mean BLEU for all language pairs\n",
    "\n",
    "df[['en-kk-bleu', 'en-ru-bleu', 'en-tr-bleu', 'kk-en-bleu', 'kk-ru-bleu', 'kk-tr-bleu',\n",
    "    'ru-en-bleu', 'ru-kk-bleu', 'ru-tr-bleu', 'tr-en-bleu', 'tr-kk-bleu', 'tr-ru-bleu']].mean()"
   ]
  },
  {
   "cell_type": "code",
   "execution_count": null,
   "id": "cc12c932",
   "metadata": {},
   "outputs": [],
   "source": [
    "# Mean ChrF for all language pairs\n",
    "\n",
    "df[['en-kk-chrf', 'en-ru-chrf', 'en-tr-chrf', 'kk-en-chrf', 'kk-ru-chrf', 'kk-tr-chrf', \n",
    "    'ru-en-chrf', 'ru-kk-chrf', 'ru-tr-chrf', 'tr-en-chrf', 'tr-kk-chrf', 'tr-ru-chrf']].mean()"
   ]
  },
  {
   "cell_type": "code",
   "execution_count": null,
   "id": "e0c651a4",
   "metadata": {},
   "outputs": [],
   "source": [
    "# Mean BLEU for all language pairs grouped by the domains\n",
    "\n",
    "df.groupby('domain')['en-kk-bleu', 'en-ru-bleu', 'en-tr-bleu', 'kk-en-bleu', 'kk-ru-bleu', 'kk-tr-bleu',\n",
    "    'ru-en-bleu', 'ru-kk-bleu', 'ru-tr-bleu', 'tr-en-bleu', 'tr-kk-bleu', 'tr-ru-bleu'].mean()"
   ]
  },
  {
   "cell_type": "code",
   "execution_count": null,
   "id": "fa3924a2",
   "metadata": {},
   "outputs": [],
   "source": [
    "# Mean ChrF for all language pairs grouped by the domains\n",
    "\n",
    "df.groupby('domain')['en-kk-chrf', 'en-ru-chrf', 'en-tr-chrf', 'kk-en-chrf', 'kk-ru-chrf', 'kk-tr-chrf',\n",
    "    'ru-en-chrf', 'ru-kk-chrf', 'ru-tr-chrf', 'tr-en-chrf', 'tr-kk-chrf', 'tr-ru-chrf'].mean()"
   ]
  }
 ],
 "metadata": {
  "kernelspec": {
   "display_name": "Python 3 (ipykernel)",
   "language": "python",
   "name": "python3"
  },
  "language_info": {
   "codemirror_mode": {
    "name": "ipython",
    "version": 3
   },
   "file_extension": ".py",
   "mimetype": "text/x-python",
   "name": "python",
   "nbconvert_exporter": "python",
   "pygments_lexer": "ipython3",
   "version": "3.10.9"
  }
 },
 "nbformat": 4,
 "nbformat_minor": 5
}
